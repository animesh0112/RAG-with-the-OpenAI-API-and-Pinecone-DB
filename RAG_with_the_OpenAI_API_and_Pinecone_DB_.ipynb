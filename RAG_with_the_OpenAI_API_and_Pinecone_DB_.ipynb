{
  "nbformat": 4,
  "nbformat_minor": 0,
  "metadata": {
    "colab": {
      "provenance": [],
      "authorship_tag": "ABX9TyPOw/L3loqUC/nGGTDJdSy3"
    },
    "kernelspec": {
      "name": "python3",
      "display_name": "Python 3"
    },
    "language_info": {
      "name": "python"
    }
  },
  "cells": [
    {
      "cell_type": "code",
      "source": [
        "# Step 1: Setup\n",
        "## Install necessary libraries and dependencies\n",
        "!pip install openai\n",
        "!pip install pinecone-client"
      ],
      "metadata": {
        "colab": {
          "base_uri": "https://localhost:8080/"
        },
        "id": "Xh0RqranDctG",
        "outputId": "8a18e04c-c8bd-41df-f8b8-2841e264fa8b"
      },
      "execution_count": 1,
      "outputs": [
        {
          "output_type": "stream",
          "name": "stdout",
          "text": [
            "Requirement already satisfied: openai in /usr/local/lib/python3.10/dist-packages (1.9.0)\n",
            "Requirement already satisfied: anyio<5,>=3.5.0 in /usr/local/lib/python3.10/dist-packages (from openai) (3.7.1)\n",
            "Requirement already satisfied: distro<2,>=1.7.0 in /usr/lib/python3/dist-packages (from openai) (1.7.0)\n",
            "Requirement already satisfied: httpx<1,>=0.23.0 in /usr/local/lib/python3.10/dist-packages (from openai) (0.26.0)\n",
            "Requirement already satisfied: pydantic<3,>=1.9.0 in /usr/local/lib/python3.10/dist-packages (from openai) (1.10.13)\n",
            "Requirement already satisfied: sniffio in /usr/local/lib/python3.10/dist-packages (from openai) (1.3.0)\n",
            "Requirement already satisfied: tqdm>4 in /usr/local/lib/python3.10/dist-packages (from openai) (4.66.1)\n",
            "Requirement already satisfied: typing-extensions<5,>=4.7 in /usr/local/lib/python3.10/dist-packages (from openai) (4.9.0)\n",
            "Requirement already satisfied: idna>=2.8 in /usr/local/lib/python3.10/dist-packages (from anyio<5,>=3.5.0->openai) (3.6)\n",
            "Requirement already satisfied: exceptiongroup in /usr/local/lib/python3.10/dist-packages (from anyio<5,>=3.5.0->openai) (1.2.0)\n",
            "Requirement already satisfied: certifi in /usr/local/lib/python3.10/dist-packages (from httpx<1,>=0.23.0->openai) (2023.11.17)\n",
            "Requirement already satisfied: httpcore==1.* in /usr/local/lib/python3.10/dist-packages (from httpx<1,>=0.23.0->openai) (1.0.2)\n",
            "Requirement already satisfied: h11<0.15,>=0.13 in /usr/local/lib/python3.10/dist-packages (from httpcore==1.*->httpx<1,>=0.23.0->openai) (0.14.0)\n",
            "Requirement already satisfied: pinecone-client in /usr/local/lib/python3.10/dist-packages (3.0.1)\n",
            "Requirement already satisfied: certifi>=2019.11.17 in /usr/local/lib/python3.10/dist-packages (from pinecone-client) (2023.11.17)\n",
            "Requirement already satisfied: tqdm>=4.64.1 in /usr/local/lib/python3.10/dist-packages (from pinecone-client) (4.66.1)\n",
            "Requirement already satisfied: typing-extensions>=3.7.4 in /usr/local/lib/python3.10/dist-packages (from pinecone-client) (4.9.0)\n",
            "Requirement already satisfied: urllib3>=1.26.0 in /usr/local/lib/python3.10/dist-packages (from pinecone-client) (2.0.7)\n"
          ]
        }
      ]
    },
    {
      "cell_type": "code",
      "source": [
        "## Import required modules\n",
        "import openai\n",
        "import pinecone"
      ],
      "metadata": {
        "id": "vuXw1a9ADhT_"
      },
      "execution_count": 2,
      "outputs": []
    },
    {
      "cell_type": "code",
      "source": [
        "# Step 2: OpenAI API Setup\n",
        "## Set up OpenAI API key\n",
        "openai.api_key = 'YOUR_OPENAI_API_KEY'"
      ],
      "metadata": {
        "id": "QAFLQQcgD35s"
      },
      "execution_count": 3,
      "outputs": []
    },
    {
      "cell_type": "code",
      "source": [
        "# Step 3: Pinecone DB Setup\n",
        "## Set up Pinecone API key and create a Pinecone index\n",
        "pinecone.api_key = 'YOUR_PINECONE_API_KEY'\n",
        "index_name = 'qa_bot_index'"
      ],
      "metadata": {
        "id": "vXxlmb9XD7tu"
      },
      "execution_count": 4,
      "outputs": []
    },
    {
      "cell_type": "code",
      "source": [
        "# Create a Pinecone client instance using the Pinecone class directly\n",
        "pc = pinecone.Pinecone(api_key=pinecone.api_key)"
      ],
      "metadata": {
        "id": "cF2zC7SYFuT_"
      },
      "execution_count": 5,
      "outputs": []
    },
    {
      "cell_type": "code",
      "source": [
        "# Check Pinecone API key\n",
        "print(f\"Pinecone API Key: {pinecone.api_key}\")"
      ],
      "metadata": {
        "colab": {
          "base_uri": "https://localhost:8080/"
        },
        "id": "DTxs_AMFH1CY",
        "outputId": "43193e0d-fee2-4524-b784-6c5383789dfa"
      },
      "execution_count": 6,
      "outputs": [
        {
          "output_type": "stream",
          "name": "stdout",
          "text": [
            "Pinecone API Key: YOUR_PINECONE_API_KEY\n"
          ]
        }
      ]
    },
    {
      "cell_type": "code",
      "source": [
        "# Example troubleshooting code\n",
        "print(f\"Pinecone API Key: {pinecone.api_key}\")\n",
        "\n",
        "# Output the Pinecone client instance details\n",
        "print(f\"Pinecone Client: {pc}\")\n",
        "\n",
        "# Attempt to create the index\n",
        "try:\n",
        "    pc.create_index(index_name, dimension=768, metric='cosine', spec=pinecone.ServerlessSpec(cloud='aws', region='us-west-2'))\n",
        "except Exception as e:\n",
        "    print(f\"Error creating index: {e}\")\n"
      ],
      "metadata": {
        "colab": {
          "base_uri": "https://localhost:8080/"
        },
        "id": "LudgpvpiEmaX",
        "outputId": "3ef85583-0f74-4623-d7b9-5c295b94003b"
      },
      "execution_count": 7,
      "outputs": [
        {
          "output_type": "stream",
          "name": "stdout",
          "text": [
            "Pinecone API Key: YOUR_PINECONE_API_KEY\n",
            "Pinecone Client: <pinecone.control.pinecone.Pinecone object at 0x7c1a3286b4f0>\n",
            "Error creating index: (401)\n",
            "Reason: Unauthorized\n",
            "HTTP response headers: HTTPHeaderDict({'content-type': 'text/plain; charset=utf-8', 'access-control-allow-origin': '*', 'vary': 'origin,access-control-request-method,access-control-request-headers', 'access-control-expose-headers': '*', 'X-Cloud-Trace-Context': '5abb0d04a79772652c7894d26eeb2c09', 'Date': 'Wed, 24 Jan 2024 06:31:41 GMT', 'Server': 'Google Frontend', 'Content-Length': '77', 'Via': '1.1 google', 'Alt-Svc': 'h3=\":443\"; ma=2592000,h3-29=\":443\"; ma=2592000'})\n",
            "HTTP response body: {\"error\":{\"code\":\"UNAUTHENTICATED\",\"message\":\"Invalid API Key\"},\"status\":401}\n",
            "\n"
          ]
        }
      ]
    },
    {
      "cell_type": "code",
      "source": [
        "# Step 4: Define Functions for Retrieval and Generation\n",
        "def retrieve_answers(question, context_list):\n",
        "    # Use Pinecone to retrieve relevant contexts\n",
        "    # Implement retrieval logic here\n",
        "    relevant_contexts = [\"Context 1\", \"Context 2\", \"Context 3\"]  # Replace with actual retrieval logic\n",
        "\n",
        "    return relevant_contexts"
      ],
      "metadata": {
        "id": "ZE07lC6yIMB0"
      },
      "execution_count": 8,
      "outputs": []
    },
    {
      "cell_type": "code",
      "source": [
        "def generate_answer(question, context):\n",
        "    # Use OpenAI API to generate an answer given the context\n",
        "    # Implement generation logic here\n",
        "    generated_answer = \"Generated Answer\"  # Replace with actual generation logic\n",
        "\n",
        "    return generated_answer"
      ],
      "metadata": {
        "id": "kk8dI7UdINmx"
      },
      "execution_count": 9,
      "outputs": []
    },
    {
      "cell_type": "code",
      "source": [
        "# Step 5: Define QA Bot Function\n",
        "def qa_bot(question, context_list):\n",
        "    # Retrieve relevant contexts using Pinecone\n",
        "    relevant_contexts = retrieve_answers(question, context_list)\n",
        "\n",
        "    # Generate answers for each relevant context using OpenAI API\n",
        "    answers = []\n",
        "    for context in relevant_contexts:\n",
        "        answer = generate_answer(question, context)\n",
        "        answers.append(answer)\n",
        "\n",
        "    # Choose the best answer based on a ranking mechanism\n",
        "    best_answer = max(answers, key=len)  # Example: choosing the longest answer\n",
        "\n",
        "    return best_answer"
      ],
      "metadata": {
        "id": "hOpTnRLqIW9H"
      },
      "execution_count": 10,
      "outputs": []
    },
    {
      "cell_type": "code",
      "source": [
        "# Step 6: Test the QA Bot\n",
        "question_to_ask = \"What are the latest business trends?\"\n",
        "context_list = [\"Context 1\", \"Context 2\", \"Context 3\"]\n",
        "\n",
        "answer = qa_bot(question_to_ask, context_list)\n",
        "print(f\"Answer: {answer}\")"
      ],
      "metadata": {
        "colab": {
          "base_uri": "https://localhost:8080/"
        },
        "id": "PZEgfe5CJrrN",
        "outputId": "4a0057f5-b699-4c75-8129-78882a0dbb14"
      },
      "execution_count": 11,
      "outputs": [
        {
          "output_type": "stream",
          "name": "stdout",
          "text": [
            "Answer: Generated Answer\n"
          ]
        }
      ]
    }
  ]
}